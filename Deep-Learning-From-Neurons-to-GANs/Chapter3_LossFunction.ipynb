{
 "cells": [
  {
   "cell_type": "code",
   "execution_count": 1,
   "id": "60a84ee9",
   "metadata": {},
   "outputs": [],
   "source": [
    "import tensorflow as tf\n",
    "import numpy as np"
   ]
  },
  {
   "cell_type": "markdown",
   "id": "805553f1",
   "metadata": {},
   "source": [
    "### Regression loss functions"
   ]
  },
  {
   "cell_type": "code",
   "execution_count": 2,
   "id": "1f70ba00",
   "metadata": {},
   "outputs": [],
   "source": [
    "y_true = np.array([1., 2.2, 7.6, 8.3, 11.2])\n",
    "y_pred = np.array([1.1, 2.5, 7.6, 8., 11.7])"
   ]
  },
  {
   "cell_type": "code",
   "execution_count": 3,
   "id": "85f40f11",
   "metadata": {},
   "outputs": [
    {
     "data": {
      "text/plain": [
       "0.08799999952316284"
      ]
     },
     "execution_count": 3,
     "metadata": {},
     "output_type": "execute_result"
    }
   ],
   "source": [
    "mse = tf.keras.losses.MeanSquaredError()\n",
    "mse(y_true, y_pred).numpy()"
   ]
  },
  {
   "cell_type": "code",
   "execution_count": 4,
   "id": "bddc010b",
   "metadata": {},
   "outputs": [
    {
     "data": {
      "text/plain": [
       "0.23999999463558197"
      ]
     },
     "execution_count": 4,
     "metadata": {},
     "output_type": "execute_result"
    }
   ],
   "source": [
    "mae = tf.keras.losses.MeanAbsoluteError()\n",
    "mae(y_true, y_pred).numpy()"
   ]
  },
  {
   "cell_type": "markdown",
   "id": "1751f80a",
   "metadata": {},
   "source": [
    "### One-hot encoding"
   ]
  },
  {
   "cell_type": "code",
   "execution_count": 5,
   "id": "08b03e2e",
   "metadata": {},
   "outputs": [
    {
     "data": {
      "text/plain": [
       "(1, 7)"
      ]
     },
     "execution_count": 5,
     "metadata": {},
     "output_type": "execute_result"
    }
   ],
   "source": [
    "y = np.array([[0, 1, 2, 1, 0, 2, 0]])\n",
    "y.shape"
   ]
  },
  {
   "cell_type": "code",
   "execution_count": 6,
   "id": "286800fc",
   "metadata": {},
   "outputs": [
    {
     "data": {
      "text/plain": [
       "array([[[1., 0., 0.],\n",
       "        [0., 1., 0.],\n",
       "        [0., 0., 1.],\n",
       "        [0., 1., 0.],\n",
       "        [1., 0., 0.],\n",
       "        [0., 0., 1.],\n",
       "        [1., 0., 0.]]], dtype=float32)"
      ]
     },
     "execution_count": 6,
     "metadata": {},
     "output_type": "execute_result"
    }
   ],
   "source": [
    "tf.keras.utils.to_categorical(y)"
   ]
  },
  {
   "cell_type": "code",
   "execution_count": 7,
   "id": "03a6a27d",
   "metadata": {},
   "outputs": [],
   "source": [
    "y = np.array([[1, 0, 0], [0, 1, 0], [0, 0, 1], [0, 1, 0], [1, 0, 0], [0, 0, 1], [1, 0, 0]]).astype(np.float32)\n",
    "y_pred = np.array([[1, 0, 0], [1, 0, 0], [0, 0, 1], [0, 1, 0], [1, 0, 0], [0, 1, 0], [0, 0, 1]]).astype(np.float32)"
   ]
  },
  {
   "cell_type": "markdown",
   "id": "77f818e7",
   "metadata": {},
   "source": [
    "### Categorical cross-entropy"
   ]
  },
  {
   "cell_type": "code",
   "execution_count": 10,
   "id": "eab9da18",
   "metadata": {},
   "outputs": [
    {
     "data": {
      "text/plain": [
       "6.9077554"
      ]
     },
     "execution_count": 10,
     "metadata": {},
     "output_type": "execute_result"
    }
   ],
   "source": [
    "cce = tf.keras.losses.CategoricalCrossentropy()\n",
    "cce(y, y_pred).numpy()"
   ]
  },
  {
   "cell_type": "code",
   "execution_count": null,
   "id": "d9a678b4",
   "metadata": {},
   "outputs": [],
   "source": []
  }
 ],
 "metadata": {
  "kernelspec": {
   "display_name": "Python 3",
   "language": "python",
   "name": "python3"
  },
  "language_info": {
   "codemirror_mode": {
    "name": "ipython",
    "version": 3
   },
   "file_extension": ".py",
   "mimetype": "text/x-python",
   "name": "python",
   "nbconvert_exporter": "python",
   "pygments_lexer": "ipython3",
   "version": "3.6.5"
  }
 },
 "nbformat": 4,
 "nbformat_minor": 5
}
