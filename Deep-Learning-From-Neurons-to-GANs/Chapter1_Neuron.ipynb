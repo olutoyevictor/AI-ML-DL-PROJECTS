{
 "cells": [
  {
   "cell_type": "markdown",
   "id": "8654e2ad",
   "metadata": {},
   "source": [
    "## Neuron: The building block of deep learning"
   ]
  },
  {
   "cell_type": "code",
   "execution_count": 1,
   "id": "2cc85c70",
   "metadata": {},
   "outputs": [],
   "source": [
    "import tensorflow as tf\n",
    "import numpy as np"
   ]
  },
  {
   "cell_type": "code",
   "execution_count": 2,
   "id": "2b12497b",
   "metadata": {},
   "outputs": [
    {
     "name": "stdout",
     "output_type": "stream",
     "text": [
      "[[ 0  1  2]\n",
      " [ 3  4  5]\n",
      " [ 6  7  8]\n",
      " [ 9 10 11]\n",
      " [12 13 14]\n",
      " [15 16 17]\n",
      " [18 19 20]\n",
      " [21 22 23]]\n"
     ]
    }
   ],
   "source": [
    "# Now we will create a fake 'data'\n",
    "data = np.arange(24).reshape(8, 3)\n",
    "print(data)"
   ]
  },
  {
   "cell_type": "code",
   "execution_count": 3,
   "id": "164f1b20",
   "metadata": {},
   "outputs": [],
   "source": [
    "# Now we will create a 'neuron' and calculate the 'output'\n",
    "neuron = tf.keras.layers.Dense(1)\n",
    "output = neuron(data)"
   ]
  },
  {
   "cell_type": "code",
   "execution_count": 4,
   "id": "b1945dba",
   "metadata": {},
   "outputs": [],
   "source": [
    "# Let's see what are the 'weights' and 'bias' of neuron\n",
    "weights = neuron.kernel.numpy()\n",
    "bias = neuron.bias.numpy()"
   ]
  },
  {
   "cell_type": "code",
   "execution_count": 5,
   "id": "efe62c37",
   "metadata": {},
   "outputs": [
    {
     "data": {
      "text/plain": [
       "array([[ 0.7330694 ],\n",
       "       [ 0.92575157],\n",
       "       [-0.5437012 ]], dtype=float32)"
      ]
     },
     "execution_count": 5,
     "metadata": {},
     "output_type": "execute_result"
    }
   ],
   "source": [
    "weights"
   ]
  },
  {
   "cell_type": "code",
   "execution_count": 8,
   "id": "1af44c8b",
   "metadata": {},
   "outputs": [
    {
     "data": {
      "text/plain": [
       "(3, 1)"
      ]
     },
     "execution_count": 8,
     "metadata": {},
     "output_type": "execute_result"
    }
   ],
   "source": [
    "weights.shape"
   ]
  },
  {
   "cell_type": "markdown",
   "id": "45305507",
   "metadata": {},
   "source": [
    "There are three columns in our input 'data' that's why 'weights' also have 3 values (or 3 rows)"
   ]
  },
  {
   "cell_type": "code",
   "execution_count": 6,
   "id": "eb539920",
   "metadata": {},
   "outputs": [
    {
     "data": {
      "text/plain": [
       "array([0.], dtype=float32)"
      ]
     },
     "execution_count": 6,
     "metadata": {},
     "output_type": "execute_result"
    }
   ],
   "source": [
    "bias"
   ]
  },
  {
   "cell_type": "code",
   "execution_count": 7,
   "id": "0aaa6ced",
   "metadata": {},
   "outputs": [
    {
     "data": {
      "text/plain": [
       "(1,)"
      ]
     },
     "execution_count": 7,
     "metadata": {},
     "output_type": "execute_result"
    }
   ],
   "source": [
    "bias.shape"
   ]
  },
  {
   "cell_type": "code",
   "execution_count": 7,
   "id": "610a7493",
   "metadata": {},
   "outputs": [
    {
     "data": {
      "text/plain": [
       "array([[ 2.001583 ],\n",
       "       [ 6.2585363],\n",
       "       [10.51549  ],\n",
       "       [14.772442 ],\n",
       "       [19.029396 ],\n",
       "       [23.28635  ],\n",
       "       [27.543303 ],\n",
       "       [31.800255 ]], dtype=float32)"
      ]
     },
     "execution_count": 7,
     "metadata": {},
     "output_type": "execute_result"
    }
   ],
   "source": [
    "# This is tensorflow's output of neuron\n",
    "output.numpy()"
   ]
  },
  {
   "cell_type": "code",
   "execution_count": 8,
   "id": "9f5295e1",
   "metadata": {},
   "outputs": [],
   "source": [
    "# Let's caluclate the above output on our own!\n",
    "our_output = np.dot(data, weights) + bias"
   ]
  },
  {
   "cell_type": "code",
   "execution_count": 9,
   "id": "5d20da91",
   "metadata": {},
   "outputs": [
    {
     "data": {
      "text/plain": [
       "array([[ 2.001583 ],\n",
       "       [ 6.2585363],\n",
       "       [10.51549  ],\n",
       "       [14.772443 ],\n",
       "       [19.029396 ],\n",
       "       [23.28635  ],\n",
       "       [27.543303 ],\n",
       "       [31.800257 ]], dtype=float32)"
      ]
     },
     "execution_count": 9,
     "metadata": {},
     "output_type": "execute_result"
    }
   ],
   "source": [
    "our_output.astype(np.float32)"
   ]
  },
  {
   "cell_type": "markdown",
   "id": "02a78c78",
   "metadata": {},
   "source": [
    "This is exact output as Tensorflow!"
   ]
  }
 ],
 "metadata": {
  "kernelspec": {
   "display_name": "Python 3",
   "language": "python",
   "name": "python3"
  },
  "language_info": {
   "codemirror_mode": {
    "name": "ipython",
    "version": 3
   },
   "file_extension": ".py",
   "mimetype": "text/x-python",
   "name": "python",
   "nbconvert_exporter": "python",
   "pygments_lexer": "ipython3",
   "version": "3.6.5"
  }
 },
 "nbformat": 4,
 "nbformat_minor": 5
}
